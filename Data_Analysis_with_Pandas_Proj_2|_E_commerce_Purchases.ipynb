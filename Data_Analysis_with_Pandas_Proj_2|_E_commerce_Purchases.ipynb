{
  "nbformat": 4,
  "nbformat_minor": 0,
  "metadata": {
    "colab": {
      "provenance": [],
      "authorship_tag": "ABX9TyP9R2+Mc96S2znmu7mRHC6g",
      "include_colab_link": true
    },
    "kernelspec": {
      "name": "python3",
      "display_name": "Python 3"
    },
    "language_info": {
      "name": "python"
    }
  },
  "cells": [
    {
      "cell_type": "markdown",
      "metadata": {
        "id": "view-in-github",
        "colab_type": "text"
      },
      "source": [
        "<a href=\"https://colab.research.google.com/github/mehta-ji/DataAnalysisPandas/blob/main/Data_Analysis_with_Pandas_Proj_2%7C_E_commerce_Purchases.ipynb\" target=\"_parent\"><img src=\"https://colab.research.google.com/assets/colab-badge.svg\" alt=\"Open In Colab\"/></a>"
      ]
    },
    {
      "cell_type": "code",
      "execution_count": null,
      "metadata": {
        "id": "jHH1Kdm_wVhN"
      },
      "outputs": [],
      "source": [
        "# To perform data analysis, I have mentioned 15 questions that we are going to  solve one by one. Questions are as follows.\n",
        "# 1. Display Top 10 Rows of The Dataset\n",
        "# 2. Check Last 10 Rows of The Dataset\n",
        "# 3. Check Datatype of Each Column\n",
        "# 4. Check null values in the dataset\n",
        "# 5. How many rows and columns are there in our Dataset?\n",
        "# 6. Highest and Lowest Purchase Prices.\n",
        "# 7. Average Purchase Price\n",
        "# 8. How many people have French 'fr' as their Language?\n",
        "# 9. Job Title Contains Engineer\n",
        "# 10. Find The Email of the person with the following IP Address: 132.207.160.22\n",
        "# 11. How many People have Mastercard as their Credit Card Provider and made a purchase above 50?\n",
        "# 12. Find the email of the person with the following Credit Card Number: 4664825258997302\n",
        "# 13. How many people purchase during the AM and how many people purchase during PM?\n",
        "# 14. How many people have a credit card that expires in 2020?\n",
        "# 15. What are the top 5 most popular email providers (e.g. gmail.com, yahoo.com, etc...)"
      ]
    },
    {
      "cell_type": "code",
      "source": [
        "import pandas as pd\n",
        "\n",
        "df = pd.read_csv('//content//sample_data//Ecommerce Purchases.csv')\n",
        "df\n"
      ],
      "metadata": {
        "id": "n3sGlsTqyMgE"
      },
      "execution_count": null,
      "outputs": []
    },
    {
      "cell_type": "code",
      "source": [
        "# 1.\n",
        "\n",
        "df.head(10)"
      ],
      "metadata": {
        "id": "WlG3DpoEyfjB"
      },
      "execution_count": null,
      "outputs": []
    },
    {
      "cell_type": "code",
      "source": [
        "# 2.\n",
        "df.tail(10)"
      ],
      "metadata": {
        "id": "fK3ND1Imytds"
      },
      "execution_count": null,
      "outputs": []
    },
    {
      "cell_type": "code",
      "source": [
        "# 3.\n",
        "df.dtypes"
      ],
      "metadata": {
        "colab": {
          "base_uri": "https://localhost:8080/"
        },
        "id": "gzaP93ltyySI",
        "outputId": "68dab9d8-8d14-48a9-9a88-b69cc9cfa1c3"
      },
      "execution_count": 8,
      "outputs": [
        {
          "output_type": "execute_result",
          "data": {
            "text/plain": [
              "Address              object\n",
              "Lot                  object\n",
              "AM or PM             object\n",
              "Browser Info         object\n",
              "Company              object\n",
              "Credit Card           int64\n",
              "CC Exp Date          object\n",
              "CC Security Code      int64\n",
              "CC Provider          object\n",
              "Email                object\n",
              "Job                  object\n",
              "IP Address           object\n",
              "Language             object\n",
              "Purchase Price      float64\n",
              "dtype: object"
            ]
          },
          "metadata": {},
          "execution_count": 8
        }
      ]
    },
    {
      "cell_type": "code",
      "source": [
        "# 4.\n",
        "df.isnull().sum()"
      ],
      "metadata": {
        "colab": {
          "base_uri": "https://localhost:8080/"
        },
        "id": "Y15257_Oy5Cs",
        "outputId": "8a905413-49c2-4a55-e14f-54bb2cc00c41"
      },
      "execution_count": 25,
      "outputs": [
        {
          "output_type": "execute_result",
          "data": {
            "text/plain": [
              "Address             0\n",
              "Lot                 0\n",
              "AM or PM            0\n",
              "Browser Info        0\n",
              "Company             0\n",
              "Credit Card         0\n",
              "CC Exp Date         0\n",
              "CC Security Code    0\n",
              "CC Provider         0\n",
              "Email               0\n",
              "Job                 0\n",
              "IP Address          0\n",
              "Language            0\n",
              "Purchase Price      0\n",
              "EmailProviders      0\n",
              "dtype: int64"
            ]
          },
          "metadata": {},
          "execution_count": 25
        }
      ]
    },
    {
      "cell_type": "code",
      "source": [
        "# 5.\n",
        "\n",
        "df.shape\n",
        "print(\"No. of rows: \", df.shape[0])\n",
        "print(\"No. of columns: \", df.shape[1])"
      ],
      "metadata": {
        "colab": {
          "base_uri": "https://localhost:8080/"
        },
        "id": "wbmAcVW51J4j",
        "outputId": "8851bdda-6d4b-4b62-fbd8-c3d460458ff1"
      },
      "execution_count": 17,
      "outputs": [
        {
          "output_type": "stream",
          "name": "stdout",
          "text": [
            "No. of rows:  10000\n",
            "No. of columns:  14\n"
          ]
        }
      ]
    },
    {
      "cell_type": "code",
      "source": [
        "# 6.\n",
        "print(\"Lowest:\", df['Purchase Price'].min())\n",
        "print('Highest:',df['Purchase Price'].max())\n"
      ],
      "metadata": {
        "colab": {
          "base_uri": "https://localhost:8080/"
        },
        "id": "L65lu0am1cNP",
        "outputId": "f560c047-16ec-4ff5-ca85-046ae4deb46d"
      },
      "execution_count": 25,
      "outputs": [
        {
          "output_type": "stream",
          "name": "stdout",
          "text": [
            "Lowest: 0.0\n",
            "Highest: 99.99\n"
          ]
        }
      ]
    },
    {
      "cell_type": "code",
      "source": [
        "# 7.\n",
        "df['Purchase Price'].mean()"
      ],
      "metadata": {
        "colab": {
          "base_uri": "https://localhost:8080/"
        },
        "id": "VX-q7Gwf1_mj",
        "outputId": "0dc1e381-4fd9-43a8-fa4c-15328eaf9b12"
      },
      "execution_count": 26,
      "outputs": [
        {
          "output_type": "execute_result",
          "data": {
            "text/plain": [
              "50.347302"
            ]
          },
          "metadata": {},
          "execution_count": 26
        }
      ]
    },
    {
      "cell_type": "code",
      "source": [
        "# 8.\n",
        "len(df[df['Language']=='fr'])"
      ],
      "metadata": {
        "colab": {
          "base_uri": "https://localhost:8080/"
        },
        "id": "toLPD-eO2GH9",
        "outputId": "4fd9119d-cde1-494e-f4c8-b08e697b83f5"
      },
      "execution_count": 30,
      "outputs": [
        {
          "output_type": "execute_result",
          "data": {
            "text/plain": [
              "1097"
            ]
          },
          "metadata": {},
          "execution_count": 30
        }
      ]
    },
    {
      "cell_type": "code",
      "source": [
        "df[df['Language']=='fr'].count()"
      ],
      "metadata": {
        "id": "XNa6Q9ViGccH"
      },
      "execution_count": null,
      "outputs": []
    },
    {
      "cell_type": "code",
      "source": [
        "# 9.\n",
        "len(df[df['Job'].str.contains('engineer',case=False)])"
      ],
      "metadata": {
        "colab": {
          "base_uri": "https://localhost:8080/"
        },
        "id": "3hC2K5mp2mp0",
        "outputId": "f209dc03-6c66-429b-e1ec-60317d3cf0d4"
      },
      "execution_count": 33,
      "outputs": [
        {
          "output_type": "execute_result",
          "data": {
            "text/plain": [
              "984"
            ]
          },
          "metadata": {},
          "execution_count": 33
        }
      ]
    },
    {
      "cell_type": "code",
      "source": [
        "# 10.\n",
        "df[df['IP Address']=='132.207.160.22'][\"Email\"]"
      ],
      "metadata": {
        "colab": {
          "base_uri": "https://localhost:8080/"
        },
        "id": "QsgLh8nA5F1f",
        "outputId": "995f14fc-8064-4bf8-fc50-4db6543b9430"
      },
      "execution_count": 44,
      "outputs": [
        {
          "output_type": "execute_result",
          "data": {
            "text/plain": [
              "2    amymiller@morales-harrison.com\n",
              "Name: Email, dtype: object"
            ]
          },
          "metadata": {},
          "execution_count": 44
        }
      ]
    },
    {
      "cell_type": "code",
      "source": [
        "# 11.\n",
        "len(df[(df['CC Provider']=='Mastercard') & (df['Purchase Price']>50)])\n",
        "# df"
      ],
      "metadata": {
        "colab": {
          "base_uri": "https://localhost:8080/"
        },
        "id": "OzyEhkN651Iu",
        "outputId": "164a02b8-5de0-41c8-907f-7288aa97a052"
      },
      "execution_count": 37,
      "outputs": [
        {
          "output_type": "execute_result",
          "data": {
            "text/plain": [
              "405"
            ]
          },
          "metadata": {},
          "execution_count": 37
        }
      ]
    },
    {
      "cell_type": "code",
      "source": [
        "df[(df['CC Provider']=='Mastercard') & (df['Purchase Price']>50)].count()"
      ],
      "metadata": {
        "colab": {
          "base_uri": "https://localhost:8080/"
        },
        "id": "J2xszh9DHhHF",
        "outputId": "5cdf71fe-e5a3-49cf-dabb-0a36ca30f7e2"
      },
      "execution_count": 38,
      "outputs": [
        {
          "output_type": "execute_result",
          "data": {
            "text/plain": [
              "Address             405\n",
              "Lot                 405\n",
              "AM or PM            405\n",
              "Browser Info        405\n",
              "Company             405\n",
              "Credit Card         405\n",
              "CC Exp Date         405\n",
              "CC Security Code    405\n",
              "CC Provider         405\n",
              "Email               405\n",
              "Job                 405\n",
              "IP Address          405\n",
              "Language            405\n",
              "Purchase Price      405\n",
              "EmailProviders      405\n",
              "dtype: int64"
            ]
          },
          "metadata": {},
          "execution_count": 38
        }
      ]
    },
    {
      "cell_type": "code",
      "source": [
        "# 12.--check later\n",
        "df[df['Credit Card']==4664825258997302][\"Email\"]"
      ],
      "metadata": {
        "colab": {
          "base_uri": "https://localhost:8080/"
        },
        "id": "LRHAVuDM7R09",
        "outputId": "41407b6d-e438-416f-c25c-cdc3d4575381"
      },
      "execution_count": 39,
      "outputs": [
        {
          "output_type": "execute_result",
          "data": {
            "text/plain": [
              "9992    bberry@wright.net\n",
              "Name: Email, dtype: object"
            ]
          },
          "metadata": {},
          "execution_count": 39
        }
      ]
    },
    {
      "cell_type": "code",
      "source": [
        "# 13.\n",
        "df.groupby(by='AM or PM')['AM or PM'].count()"
      ],
      "metadata": {
        "colab": {
          "base_uri": "https://localhost:8080/"
        },
        "id": "l2a4ERTF7pPu",
        "outputId": "929ffa63-5c2f-4e39-e85a-11cad16d4851"
      },
      "execution_count": 4,
      "outputs": [
        {
          "output_type": "execute_result",
          "data": {
            "text/plain": [
              "AM or PM\n",
              "AM    4932\n",
              "PM    5068\n",
              "Name: AM or PM, dtype: int64"
            ]
          },
          "metadata": {},
          "execution_count": 4
        }
      ]
    },
    {
      "cell_type": "code",
      "source": [
        "\n",
        "df['AM or PM'].value_counts()"
      ],
      "metadata": {
        "colab": {
          "base_uri": "https://localhost:8080/"
        },
        "id": "U8OagLFNH0XO",
        "outputId": "839a4886-60cd-486e-fc10-0d96ebfc9223"
      },
      "execution_count": 40,
      "outputs": [
        {
          "output_type": "execute_result",
          "data": {
            "text/plain": [
              "AM or PM\n",
              "PM    5068\n",
              "AM    4932\n",
              "Name: count, dtype: int64"
            ]
          },
          "metadata": {},
          "execution_count": 40
        }
      ]
    },
    {
      "cell_type": "code",
      "source": [
        "# 14.\n",
        "df[df['CC Exp Date'].str.contains('/20')]['CC Exp Date'].count()"
      ],
      "metadata": {
        "colab": {
          "base_uri": "https://localhost:8080/"
        },
        "id": "VNcvDpmyCmOk",
        "outputId": "d8e87340-2845-41e3-c7a4-5d5cecd63289"
      },
      "execution_count": 11,
      "outputs": [
        {
          "output_type": "execute_result",
          "data": {
            "text/plain": [
              "988"
            ]
          },
          "metadata": {},
          "execution_count": 11
        }
      ]
    },
    {
      "cell_type": "code",
      "source": [
        "df['EmailProviders']=df.Email.str.split('@').str[-1]"
      ],
      "metadata": {
        "id": "qz7A6fAFDWOl"
      },
      "execution_count": 41,
      "outputs": []
    },
    {
      "cell_type": "code",
      "source": [
        "df['EmailProviders'].value_counts().head(5)"
      ],
      "metadata": {
        "colab": {
          "base_uri": "https://localhost:8080/"
        },
        "id": "vGseFHKyEjwK",
        "outputId": "e932ed82-5c22-47f0-b395-3762f684d9ab"
      },
      "execution_count": 43,
      "outputs": [
        {
          "output_type": "execute_result",
          "data": {
            "text/plain": [
              "EmailProviders\n",
              "hotmail.com     1638\n",
              "yahoo.com       1616\n",
              "gmail.com       1605\n",
              "smith.com         42\n",
              "williams.com      37\n",
              "Name: count, dtype: int64"
            ]
          },
          "metadata": {},
          "execution_count": 43
        }
      ]
    },
    {
      "cell_type": "code",
      "source": [
        "df['EmailProviders'].apply(lambda x:x.split('@')[-1]).value_counts().head()"
      ],
      "metadata": {
        "colab": {
          "base_uri": "https://localhost:8080/"
        },
        "id": "56h8TsFrI7bL",
        "outputId": "c9b2ea12-0698-409d-fe6d-da8c0c9144b9"
      },
      "execution_count": 46,
      "outputs": [
        {
          "output_type": "execute_result",
          "data": {
            "text/plain": [
              "EmailProviders\n",
              "hotmail.com     1638\n",
              "yahoo.com       1616\n",
              "gmail.com       1605\n",
              "smith.com         42\n",
              "williams.com      37\n",
              "Name: count, dtype: int64"
            ]
          },
          "metadata": {},
          "execution_count": 46
        }
      ]
    }
  ]
}